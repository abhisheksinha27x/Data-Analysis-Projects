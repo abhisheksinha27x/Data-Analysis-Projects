{
 "cells": [
  {
   "cell_type": "code",
   "execution_count": 2,
   "id": "ade64b6c",
   "metadata": {},
   "outputs": [],
   "source": [
    "import numpy as np \n",
    "import pandas as pd \n",
    "import matplotlib.pyplot as plt\n",
    "import seaborn as sns"
   ]
  },
  {
   "cell_type": "code",
   "execution_count": 3,
   "id": "04086f8e",
   "metadata": {},
   "outputs": [],
   "source": [
    "data_15 = pd.read_csv('dataset/2015.csv')\n",
    "data_16 = pd.read_csv('dataset/2016.csv')\n",
    "data_17 = pd.read_csv('dataset/2017.csv')\n",
    "data_18 = pd.read_csv('dataset/2018.csv')\n",
    "data_19 = pd.read_csv('dataset/2019.csv')\n"
   ]
  }
 ],
 "metadata": {
  "kernelspec": {
   "display_name": "env1-p",
   "language": "python",
   "name": "python3"
  },
  "language_info": {
   "codemirror_mode": {
    "name": "ipython",
    "version": 3
   },
   "file_extension": ".py",
   "mimetype": "text/x-python",
   "name": "python",
   "nbconvert_exporter": "python",
   "pygments_lexer": "ipython3",
   "version": "3.13.3"
  }
 },
 "nbformat": 4,
 "nbformat_minor": 5
}
