{
 "cells": [
  {
   "cell_type": "code",
   "execution_count": 1,
   "id": "db1e64e3",
   "metadata": {},
   "outputs": [],
   "source": [
    "import numpy as np \n",
    "import pandas as pd \n",
    "from pandas import DataFrame\n",
    "\n",
    "import matplotlib.pyplot as plt\n",
    "import seaborn as sns"
   ]
  },
  {
   "cell_type": "code",
   "execution_count": 2,
   "id": "f1ab7125",
   "metadata": {},
   "outputs": [
    {
     "data": {
      "text/html": [
       "<div>\n",
       "<style scoped>\n",
       "    .dataframe tbody tr th:only-of-type {\n",
       "        vertical-align: middle;\n",
       "    }\n",
       "\n",
       "    .dataframe tbody tr th {\n",
       "        vertical-align: top;\n",
       "    }\n",
       "\n",
       "    .dataframe thead th {\n",
       "        text-align: right;\n",
       "    }\n",
       "</style>\n",
       "<table border=\"1\" class=\"dataframe\">\n",
       "  <thead>\n",
       "    <tr style=\"text-align: right;\">\n",
       "      <th></th>\n",
       "      <th>show_id</th>\n",
       "      <th>type</th>\n",
       "      <th>title</th>\n",
       "      <th>director</th>\n",
       "      <th>cast</th>\n",
       "      <th>country</th>\n",
       "      <th>date_added</th>\n",
       "      <th>release_year</th>\n",
       "      <th>rating</th>\n",
       "      <th>duration</th>\n",
       "      <th>listed_in</th>\n",
       "      <th>description</th>\n",
       "    </tr>\n",
       "  </thead>\n",
       "  <tbody>\n",
       "    <tr>\n",
       "      <th>0</th>\n",
       "      <td>s1</td>\n",
       "      <td>Movie</td>\n",
       "      <td>Dick Johnson Is Dead</td>\n",
       "      <td>Kirsten Johnson</td>\n",
       "      <td>NaN</td>\n",
       "      <td>United States</td>\n",
       "      <td>September 25, 2021</td>\n",
       "      <td>2020</td>\n",
       "      <td>PG-13</td>\n",
       "      <td>90 min</td>\n",
       "      <td>Documentaries</td>\n",
       "      <td>As her father nears the end of his life, filmm...</td>\n",
       "    </tr>\n",
       "    <tr>\n",
       "      <th>1</th>\n",
       "      <td>s2</td>\n",
       "      <td>TV Show</td>\n",
       "      <td>Blood &amp; Water</td>\n",
       "      <td>NaN</td>\n",
       "      <td>Ama Qamata, Khosi Ngema, Gail Mabalane, Thaban...</td>\n",
       "      <td>South Africa</td>\n",
       "      <td>September 24, 2021</td>\n",
       "      <td>2021</td>\n",
       "      <td>TV-MA</td>\n",
       "      <td>2 Seasons</td>\n",
       "      <td>International TV Shows, TV Dramas, TV Mysteries</td>\n",
       "      <td>After crossing paths at a party, a Cape Town t...</td>\n",
       "    </tr>\n",
       "    <tr>\n",
       "      <th>2</th>\n",
       "      <td>s3</td>\n",
       "      <td>TV Show</td>\n",
       "      <td>Ganglands</td>\n",
       "      <td>Julien Leclercq</td>\n",
       "      <td>Sami Bouajila, Tracy Gotoas, Samuel Jouy, Nabi...</td>\n",
       "      <td>NaN</td>\n",
       "      <td>September 24, 2021</td>\n",
       "      <td>2021</td>\n",
       "      <td>TV-MA</td>\n",
       "      <td>1 Season</td>\n",
       "      <td>Crime TV Shows, International TV Shows, TV Act...</td>\n",
       "      <td>To protect his family from a powerful drug lor...</td>\n",
       "    </tr>\n",
       "    <tr>\n",
       "      <th>3</th>\n",
       "      <td>s4</td>\n",
       "      <td>TV Show</td>\n",
       "      <td>Jailbirds New Orleans</td>\n",
       "      <td>NaN</td>\n",
       "      <td>NaN</td>\n",
       "      <td>NaN</td>\n",
       "      <td>September 24, 2021</td>\n",
       "      <td>2021</td>\n",
       "      <td>TV-MA</td>\n",
       "      <td>1 Season</td>\n",
       "      <td>Docuseries, Reality TV</td>\n",
       "      <td>Feuds, flirtations and toilet talk go down amo...</td>\n",
       "    </tr>\n",
       "    <tr>\n",
       "      <th>4</th>\n",
       "      <td>s5</td>\n",
       "      <td>TV Show</td>\n",
       "      <td>Kota Factory</td>\n",
       "      <td>NaN</td>\n",
       "      <td>Mayur More, Jitendra Kumar, Ranjan Raj, Alam K...</td>\n",
       "      <td>India</td>\n",
       "      <td>September 24, 2021</td>\n",
       "      <td>2021</td>\n",
       "      <td>TV-MA</td>\n",
       "      <td>2 Seasons</td>\n",
       "      <td>International TV Shows, Romantic TV Shows, TV ...</td>\n",
       "      <td>In a city of coaching centers known to train I...</td>\n",
       "    </tr>\n",
       "  </tbody>\n",
       "</table>\n",
       "</div>"
      ],
      "text/plain": [
       "  show_id     type                  title         director  \\\n",
       "0      s1    Movie   Dick Johnson Is Dead  Kirsten Johnson   \n",
       "1      s2  TV Show          Blood & Water              NaN   \n",
       "2      s3  TV Show              Ganglands  Julien Leclercq   \n",
       "3      s4  TV Show  Jailbirds New Orleans              NaN   \n",
       "4      s5  TV Show           Kota Factory              NaN   \n",
       "\n",
       "                                                cast        country  \\\n",
       "0                                                NaN  United States   \n",
       "1  Ama Qamata, Khosi Ngema, Gail Mabalane, Thaban...   South Africa   \n",
       "2  Sami Bouajila, Tracy Gotoas, Samuel Jouy, Nabi...            NaN   \n",
       "3                                                NaN            NaN   \n",
       "4  Mayur More, Jitendra Kumar, Ranjan Raj, Alam K...          India   \n",
       "\n",
       "           date_added  release_year rating   duration  \\\n",
       "0  September 25, 2021          2020  PG-13     90 min   \n",
       "1  September 24, 2021          2021  TV-MA  2 Seasons   \n",
       "2  September 24, 2021          2021  TV-MA   1 Season   \n",
       "3  September 24, 2021          2021  TV-MA   1 Season   \n",
       "4  September 24, 2021          2021  TV-MA  2 Seasons   \n",
       "\n",
       "                                           listed_in  \\\n",
       "0                                      Documentaries   \n",
       "1    International TV Shows, TV Dramas, TV Mysteries   \n",
       "2  Crime TV Shows, International TV Shows, TV Act...   \n",
       "3                             Docuseries, Reality TV   \n",
       "4  International TV Shows, Romantic TV Shows, TV ...   \n",
       "\n",
       "                                         description  \n",
       "0  As her father nears the end of his life, filmm...  \n",
       "1  After crossing paths at a party, a Cape Town t...  \n",
       "2  To protect his family from a powerful drug lor...  \n",
       "3  Feuds, flirtations and toilet talk go down amo...  \n",
       "4  In a city of coaching centers known to train I...  "
      ]
     },
     "execution_count": 2,
     "metadata": {},
     "output_type": "execute_result"
    }
   ],
   "source": [
    "netfilx_df = pd.read_csv(\"netflix_titles.csv\")\n",
    "netfilx_df.head()"
   ]
  },
  {
   "cell_type": "code",
   "execution_count": 3,
   "id": "bda68260",
   "metadata": {},
   "outputs": [
    {
     "name": "stdout",
     "output_type": "stream",
     "text": [
      "<class 'pandas.core.frame.DataFrame'>\n",
      "RangeIndex: 8807 entries, 0 to 8806\n",
      "Data columns (total 12 columns):\n",
      " #   Column        Non-Null Count  Dtype \n",
      "---  ------        --------------  ----- \n",
      " 0   show_id       8807 non-null   object\n",
      " 1   type          8807 non-null   object\n",
      " 2   title         8807 non-null   object\n",
      " 3   director      6173 non-null   object\n",
      " 4   cast          7982 non-null   object\n",
      " 5   country       7976 non-null   object\n",
      " 6   date_added    8797 non-null   object\n",
      " 7   release_year  8807 non-null   int64 \n",
      " 8   rating        8803 non-null   object\n",
      " 9   duration      8804 non-null   object\n",
      " 10  listed_in     8807 non-null   object\n",
      " 11  description   8807 non-null   object\n",
      "dtypes: int64(1), object(11)\n",
      "memory usage: 825.8+ KB\n"
     ]
    }
   ],
   "source": [
    "netfilx_df.info()\n",
    "\n",
    "# total rows = 8807\n",
    "# total cols = 12\n",
    "\n",
    "# only the release_year col entries are in numerical form"
   ]
  },
  {
   "cell_type": "code",
   "execution_count": 4,
   "id": "6ba2effc",
   "metadata": {},
   "outputs": [
    {
     "data": {
      "text/plain": [
       "show_id         8807\n",
       "type               2\n",
       "title           8807\n",
       "director        4528\n",
       "cast            7692\n",
       "country          748\n",
       "date_added      1767\n",
       "release_year      74\n",
       "rating            17\n",
       "duration         220\n",
       "listed_in        514\n",
       "description     8775\n",
       "dtype: int64"
      ]
     },
     "execution_count": 4,
     "metadata": {},
     "output_type": "execute_result"
    }
   ],
   "source": [
    "netfilx_df.nunique()    # shows how many unique entries each column have\n",
    "\n",
    "# we can clearly say that all the movies and tvshows are unique "
   ]
  },
  {
   "cell_type": "code",
   "execution_count": 5,
   "id": "dee20356",
   "metadata": {},
   "outputs": [
    {
     "data": {
      "text/plain": [
       "show_id            0\n",
       "type               0\n",
       "title              0\n",
       "director        2634\n",
       "cast             825\n",
       "country          831\n",
       "date_added        10\n",
       "release_year       0\n",
       "rating             4\n",
       "duration           3\n",
       "listed_in          0\n",
       "description        0\n",
       "dtype: int64"
      ]
     },
     "execution_count": 5,
     "metadata": {},
     "output_type": "execute_result"
    }
   ],
   "source": [
    "netfilx_df.isnull().sum()   # no of missing values in each column"
   ]
  },
  {
   "cell_type": "markdown",
   "id": "b239e40b",
   "metadata": {},
   "source": [
    "The most not known things are about the director, cast and the country."
   ]
  },
  {
   "cell_type": "code",
   "execution_count": 6,
   "id": "1575e5fd",
   "metadata": {},
   "outputs": [
    {
     "data": {
      "text/plain": [
       "<Axes: >"
      ]
     },
     "execution_count": 6,
     "metadata": {},
     "output_type": "execute_result"
    },
    {
     "data": {
      "image/png": "[encoded data removed]",
      "text/plain": [
       "<Figure size 640x480 with 1 Axes>"
      ]
     },
     "metadata": {},
     "output_type": "display_data"
    }
   ],
   "source": [
    "sns.heatmap(netfilx_df.isnull(), cbar=False, yticklabels=False)"
   ]
  },
  {
   "cell_type": "markdown",
   "id": "4a67c2a8",
   "metadata": {},
   "source": [
    "Objectives:\n",
    "- check for duplicated rows\n",
    "- convert the \"date_added\", \"duration\" features into \"datetime\" format\n",
    "- create a distinct DataFrame for both category of the \"type\" feature, will bring better result due to different nature they have"
   ]
  },
  {
   "cell_type": "code",
   "execution_count": 7,
   "id": "4cfc5f19",
   "metadata": {},
   "outputs": [],
   "source": [
    "# making some cols look good\n",
    "\n",
    "netfilx_df['cast'] = netfilx_df['cast'].fillna(\"No Cast Listed\")\n",
    "netfilx_df['director'] = netfilx_df['director'].fillna(\"Unknown\")"
   ]
  },
  {
   "cell_type": "code",
   "execution_count": 8,
   "id": "ddb64818",
   "metadata": {},
   "outputs": [
    {
     "name": "stdout",
     "output_type": "stream",
     "text": [
      "<class 'pandas.core.frame.DataFrame'>\n",
      "RangeIndex: 8807 entries, 0 to 8806\n",
      "Data columns (total 12 columns):\n",
      " #   Column        Non-Null Count  Dtype \n",
      "---  ------        --------------  ----- \n",
      " 0   show_id       8807 non-null   object\n",
      " 1   type          8807 non-null   object\n",
      " 2   title         8807 non-null   object\n",
      " 3   director      8807 non-null   object\n",
      " 4   cast          8807 non-null   object\n",
      " 5   country       7976 non-null   object\n",
      " 6   date_added    8797 non-null   object\n",
      " 7   release_year  8807 non-null   int64 \n",
      " 8   rating        8803 non-null   object\n",
      " 9   duration      8804 non-null   object\n",
      " 10  listed_in     8807 non-null   object\n",
      " 11  description   8807 non-null   object\n",
      "dtypes: int64(1), object(11)\n",
      "memory usage: 825.8+ KB\n"
     ]
    }
   ],
   "source": [
    "netfilx_df.info()   # clearly no missimg values in the director and cast columns"
   ]
  },
  {
   "cell_type": "code",
   "execution_count": 9,
   "id": "030c7ac4",
   "metadata": {},
   "outputs": [
    {
     "data": {
      "text/plain": [
       "np.int64(0)"
      ]
     },
     "execution_count": 9,
     "metadata": {},
     "output_type": "execute_result"
    }
   ],
   "source": [
    "# check for duplicate rows\n",
    "\n",
    "netfilx_df.duplicated().sum()   # no duplicated rows"
   ]
  },
  {
   "cell_type": "code",
   "execution_count": 10,
   "id": "ea41f940",
   "metadata": {},
   "outputs": [
    {
     "data": {
      "text/plain": [
       "Index(['show_id', 'type', 'title', 'director', 'cast', 'country', 'date_added',\n",
       "       'release_year', 'rating', 'duration', 'listed_in', 'description',\n",
       "       'date', 'day_added', 'month_added'],\n",
       "      dtype='object')"
      ]
     },
     "execution_count": 10,
     "metadata": {},
     "output_type": "execute_result"
    }
   ],
   "source": [
    "# converting the date_added feature into datetime format with the day_added and month_added as separate column\n",
    "\n",
    "netfilx_df['date'] = pd.to_datetime(netfilx_df['date_added'].str.strip())   # stripping to prevent errors, in case if there are extra spaces\n",
    "netfilx_df['day_added'] = netfilx_df['date'].dt.day\n",
    "netfilx_df['month_added'] = netfilx_df['date'].dt.month\n",
    "\n",
    "netfilx_df.columns"
   ]
  },
  {
   "cell_type": "code",
   "execution_count": 11,
   "id": "3af9ddfc",
   "metadata": {},
   "outputs": [],
   "source": [
    "# creating 2 new dataFrame's \n",
    "\n",
    "netflix_movie = netfilx_df[netfilx_df['type'] == 'Movie'].copy()  # no shallow copy\n",
    "netflix_tvshow = netfilx_df[netfilx_df['type'] == 'TV Show'].copy()  # without (), it will be a function not a dataFrame\n",
    "\n",
    "# if not want to create two different dataframe \n",
    "# alternate way : using pd.get_dummies on the 'type' col; good for machine learning"
   ]
  },
  {
   "cell_type": "code",
   "execution_count": 12,
   "id": "ea25f5ff",
   "metadata": {},
   "outputs": [],
   "source": [
    "# now for the 'duration' column\n",
    "\n",
    "netflix_movie['movie_length'] = pd.to_numeric(netflix_movie['duration'].str.split(\" \").str[0], errors='coerce').astype('Int64')\n",
    "netflix_tvshow['total_season'] = pd.to_numeric(netflix_tvshow['duration'].str.split(\" \").str[0], errors='coerce').astype('Int64')\n",
    "    # errors='coerce' tells pd.to_numeric() to replace invalid conversions with NaN instead of crashing\n",
    "    # then astype('Int64') converts the column to the nullable integer type (Int64), which supports NaNs (unlike plain int)"
   ]
  },
  {
   "cell_type": "code",
   "execution_count": 13,
   "id": "c98fe510",
   "metadata": {},
   "outputs": [
    {
     "name": "stdout",
     "output_type": "stream",
     "text": [
      "<class 'pandas.core.frame.DataFrame'>\n",
      "Index: 6131 entries, 0 to 8806\n",
      "Data columns (total 16 columns):\n",
      " #   Column        Non-Null Count  Dtype         \n",
      "---  ------        --------------  -----         \n",
      " 0   show_id       6131 non-null   object        \n",
      " 1   type          6131 non-null   object        \n",
      " 2   title         6131 non-null   object        \n",
      " 3   director      6131 non-null   object        \n",
      " 4   cast          6131 non-null   object        \n",
      " 5   country       5691 non-null   object        \n",
      " 6   date_added    6131 non-null   object        \n",
      " 7   release_year  6131 non-null   int64         \n",
      " 8   rating        6129 non-null   object        \n",
      " 9   duration      6128 non-null   object        \n",
      " 10  listed_in     6131 non-null   object        \n",
      " 11  description   6131 non-null   object        \n",
      " 12  date          6131 non-null   datetime64[ns]\n",
      " 13  day_added     6131 non-null   float64       \n",
      " 14  month_added   6131 non-null   float64       \n",
      " 15  movie_length  6128 non-null   Int64         \n",
      "dtypes: Int64(1), datetime64[ns](1), float64(2), int64(1), object(11)\n",
      "memory usage: 820.3+ KB\n"
     ]
    }
   ],
   "source": [
    "netflix_movie.info() # we can see all the new added columns and its Dtype, will be same for netflix_tvshow"
   ]
  },
  {
   "cell_type": "markdown",
   "id": "870f5063",
   "metadata": {},
   "source": [
    "### Count of Movies vs TV Shows."
   ]
  },
  {
   "cell_type": "code",
   "execution_count": 14,
   "id": "3cd9dfc4",
   "metadata": {},
   "outputs": [
    {
     "data": {
      "text/plain": [
       "type\n",
       "Movie      6131\n",
       "TV Show    2676\n",
       "dtype: int64"
      ]
     },
     "execution_count": 14,
     "metadata": {},
     "output_type": "execute_result"
    }
   ],
   "source": [
    "netfilx_df.groupby('type').size()"
   ]
  },
  {
   "cell_type": "markdown",
   "id": "1e6db61f",
   "metadata": {},
   "source": [
    "Clearly movies are more produced than TV Show."
   ]
  },
  {
   "cell_type": "code",
   "execution_count": 15,
   "id": "178cdcc8",
   "metadata": {},
   "outputs": [
    {
     "data": {
      "text/plain": [
       "Text(0.5, 1.0, 'Comparision in Numbers')"
      ]
     },
     "execution_count": 15,
     "metadata": {},
     "output_type": "execute_result"
    },
    {
     "data": {
      "image/png": "[encoded data removed]",
      "text/plain": [
       "<Figure size 640x480 with 1 Axes>"
      ]
     },
     "metadata": {},
     "output_type": "display_data"
    }
   ],
   "source": [
    "sns.countplot(netfilx_df, x='type')\n",
    "plt.title('Comparision in Numbers')"
   ]
  },
  {
   "cell_type": "markdown",
   "id": "20de3b60",
   "metadata": {},
   "source": [
    "### Count according to Durations"
   ]
  },
  {
   "cell_type": "code",
   "execution_count": 16,
   "id": "ff1d5e9e",
   "metadata": {},
   "outputs": [
    {
     "data": {
      "image/png": "[encoded data removed]",
      "text/plain": [
       "<Figure size 1200x600 with 2 Axes>"
      ]
     },
     "metadata": {},
     "output_type": "display_data"
    }
   ],
   "source": [
    "fig, ax = plt.subplots(1,2, figsize=(12, 6))\n",
    "\n",
    "ax[0].title.set_text(\"Movie length Distribution\")\n",
    "ax[1].title.set_text(\"TV Show total Season Distribution\")\n",
    "\n",
    "sns.histplot(netflix_movie, x=\"movie_length\", ax=ax[0]);\n",
    "sns.histplot(netflix_tvshow, x=\"total_season\", ax=ax[1]);\n"
   ]
  },
  {
   "cell_type": "markdown",
   "id": "c428436e",
   "metadata": {},
   "source": [
    "We can see that the most movies length's are around 100minutes, while TV Show with only season is very much higher than all the remaining TV Shows."
   ]
  }
 ],
 "metadata": {
  "kernelspec": {
   "display_name": "env1-p",
   "language": "python",
   "name": "python3"
  },
  "language_info": {
   "codemirror_mode": {
    "name": "ipython",
    "version": 3
   },
   "file_extension": ".py",
   "mimetype": "text/x-python",
   "name": "python",
   "nbconvert_exporter": "python",
   "pygments_lexer": "ipython3",
   "version": "3.13.3"
  }
 },
 "nbformat": 4,
 "nbformat_minor": 5
}
